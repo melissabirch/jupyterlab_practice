{
 "cells": [
  {
   "cell_type": "markdown",
   "id": "f2c79f64-fc51-4743-8e5f-dc83bec382cc",
   "metadata": {},
   "source": [
    "We are currently working in the following directory:"
   ]
  },
  {
   "cell_type": "code",
   "execution_count": 1,
   "id": "3f1ee54a-520e-4d6f-baef-7552b47f23b6",
   "metadata": {},
   "outputs": [
    {
     "name": "stdout",
     "output_type": "stream",
     "text": [
      "/c/Users/birchmel/Documents/DataScienceToolbox/Assignment7/jupyterlab_practice\n"
     ]
    }
   ],
   "source": [
    "!pwd"
   ]
  },
  {
   "cell_type": "markdown",
   "id": "2e118f5b-0973-4e86-ae67-1f916dc6f210",
   "metadata": {},
   "source": [
    "To time how long it takes to run a Python cell, we could use the `timeit` command inside a cell as is shown below:\r\n",
    "\r\n",
    "```python\r\n",
    "%%timeit\r\n",
    "for i in range(1_000_000):\r\n",
    "   i**2\r\n"
   ]
  },
  {
   "cell_type": "code",
   "execution_count": 2,
   "id": "c65ce716-3883-4e5b-bf97-f6d9ef0f5383",
   "metadata": {},
   "outputs": [
    {
     "name": "stderr",
     "output_type": "stream",
     "text": [
      "[NbConvertApp] Converting notebook question12.ipynb to html\n",
      "[NbConvertApp] Writing 270313 bytes to question12.html\n"
     ]
    }
   ],
   "source": [
    "!jupyter nbconvert question12.ipynb \\\n",
    "    --to html \\\n",
    "    --output=question12.html \\\n",
    "    --no-input"
   ]
  }
 ],
 "metadata": {
  "kernelspec": {
   "display_name": "Python 3 (ipykernel)",
   "language": "python",
   "name": "python3"
  },
  "language_info": {
   "codemirror_mode": {
    "name": "ipython",
    "version": 3
   },
   "file_extension": ".py",
   "mimetype": "text/x-python",
   "name": "python",
   "nbconvert_exporter": "python",
   "pygments_lexer": "ipython3",
   "version": "3.12.0"
  }
 },
 "nbformat": 4,
 "nbformat_minor": 5
}
