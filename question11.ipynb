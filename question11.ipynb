{
 "cells": [
  {
   "cell_type": "markdown",
   "id": "fb4b0e8f-656a-47da-91b8-96a4501173db",
   "metadata": {},
   "source": [
    "# Melissa Birch\n",
    "\n",
    "Notebook for assignment 7"
   ]
  },
  {
   "cell_type": "code",
   "execution_count": 1,
   "id": "4dd4cc83-d1bb-40ce-b8f2-b803b4eeae97",
   "metadata": {},
   "outputs": [
    {
     "name": "stdout",
     "output_type": "stream",
     "text": [
      "5.0\n"
     ]
    }
   ],
   "source": [
    "def compute_mean(values):\n",
    "    mean = sum(values) / len(values)\n",
    "    print(mean)\n",
    "\n",
    "compute_mean([2, 4, 6, 8])"
   ]
  },
  {
   "cell_type": "markdown",
   "id": "c5dcb552-d824-45ed-bacd-1292820a04d8",
   "metadata": {},
   "source": [
    "This code calculates the mean of a list of numbers using the formula:\n",
    "\n",
    "$$\\bar{x} = \\frac{1}{n} \\left( \\sum_{i=1}^{n} x_i \\right) = \\frac{x_1 + x_2 + \\cdots + x_n}{n}$$\r\n"
   ]
  }
 ],
 "metadata": {
  "kernelspec": {
   "display_name": "Python 3 (ipykernel)",
   "language": "python",
   "name": "python3"
  },
  "language_info": {
   "codemirror_mode": {
    "name": "ipython",
    "version": 3
   },
   "file_extension": ".py",
   "mimetype": "text/x-python",
   "name": "python",
   "nbconvert_exporter": "python",
   "pygments_lexer": "ipython3",
   "version": "3.12.0"
  }
 },
 "nbformat": 4,
 "nbformat_minor": 5
}
